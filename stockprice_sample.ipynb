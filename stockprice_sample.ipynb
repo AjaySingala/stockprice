{
 "cells": [
  {
   "cell_type": "code",
   "execution_count": 1,
   "id": "0f7ecccc",
   "metadata": {},
   "outputs": [
    {
     "name": "stdout",
     "output_type": "stream",
     "text": [
      "{'Global Quote': {'01. symbol': '500400.BSE', '02. open': '231.9000', '03. high': '231.9000', '04. low': '221.2500', '05. price': '226.3500', '06. volume': '5476547', '07. latest trading day': '2021-12-02', '08. previous close': '225.2000', '09. change': '1.1500', '10. change percent': '0.5107%'}}\n"
     ]
    }
   ],
   "source": [
    "import requests\n",
    "\n",
    "# replace the \"demo\" apikey below with your own key from https://www.alphavantage.co/support/#api-key\n",
    "url = 'https://www.alphavantage.co/query?function=GLOBAL_QUOTE&symbol=500400.BSE&apikey=2K30K29WEZ1S23Z'\n",
    "r = requests.get(url)\n",
    "data = r.json()\n",
    "\n",
    "print(data)"
   ]
  },
  {
   "cell_type": "code",
   "execution_count": 11,
   "id": "e061f4a4",
   "metadata": {},
   "outputs": [
    {
     "name": "stdout",
     "output_type": "stream",
     "text": [
      "{\"Global Quote\": {\"01. symbol\": \"500400.BSE\", \"02. open\": \"231.9000\", \"03. high\": \"231.9000\", \"04. low\": \"221.2500\", \"05. price\": \"226.3500\", \"06. volume\": \"5476547\", \"07. latest trading day\": \"2021-12-02\", \"08. previous close\": \"225.2000\", \"09. change\": \"1.1500\", \"10. change percent\": \"0.5107%\"}}\n"
     ]
    }
   ],
   "source": [
    "import json\n",
    "\n",
    "dataDump = json.dumps(data)\n",
    "print(dataDump)"
   ]
  },
  {
   "cell_type": "code",
   "execution_count": 14,
   "id": "37467631",
   "metadata": {},
   "outputs": [
    {
     "name": "stdout",
     "output_type": "stream",
     "text": [
      "{'Global Quote': {'01. symbol': '500400.BSE', '02. open': '231.9000', '03. high': '231.9000', '04. low': '221.2500', '05. price': '226.3500', '06. volume': '5476547', '07. latest trading day': '2021-12-02', '08. previous close': '225.2000', '09. change': '1.1500', '10. change percent': '0.5107%'}}\n"
     ]
    }
   ],
   "source": [
    "stockDetails = json.loads(dataDump)\n",
    "print(stockDetails)"
   ]
  },
  {
   "cell_type": "code",
   "execution_count": 27,
   "id": "69865cf0",
   "metadata": {},
   "outputs": [
    {
     "name": "stdout",
     "output_type": "stream",
     "text": [
      "500400.BSE\n"
     ]
    }
   ],
   "source": [
    "quote = stockDetails['Global Quote']['01. symbol']\n",
    "print(quote)"
   ]
  },
  {
   "cell_type": "code",
   "execution_count": 28,
   "id": "b69c8d3e",
   "metadata": {},
   "outputs": [
    {
     "name": "stdout",
     "output_type": "stream",
     "text": [
      "226.3500\n"
     ]
    }
   ],
   "source": [
    "price = stockDetails['Global Quote']['05. price']\n",
    "print(price)"
   ]
  },
  {
   "cell_type": "code",
   "execution_count": 29,
   "id": "120d7722",
   "metadata": {},
   "outputs": [
    {
     "name": "stdout",
     "output_type": "stream",
     "text": [
      "500400.BSE 226.3500\n"
     ]
    }
   ],
   "source": [
    "(stock, price)  = (stockDetails['Global Quote']['01. symbol'], stockDetails['Global Quote']['05. price'])\n",
    "print(stock, price)"
   ]
  },
  {
   "cell_type": "code",
   "execution_count": 31,
   "id": "4c9b2206",
   "metadata": {},
   "outputs": [
    {
     "name": "stdout",
     "output_type": "stream",
     "text": [
      "Enter the no of key value pair in a dictionary10\n",
      "{0: 1, 1: 2, 2: 3, 3: 4, 4: 5, 5: 6, 6: 7, 7: 8, 8: 9, 9: 10}\n"
     ]
    }
   ],
   "source": [
    "class my_dictionary(dict): \n",
    "    # __init__ function \n",
    "    def __init__(self): \n",
    "        self = dict()   \n",
    "    # Function to add key:value \n",
    "    def add(self, key, value): \n",
    "        self[key] = value \n",
    "# Main Function \n",
    "dict_obj = my_dictionary() \n",
    "limit = int(input(\"Enter the no of key value pair in a dictionary\"))\n",
    "c=0\n",
    "while c < limit :   \n",
    "    dict_obj.key = c \n",
    "    dict_obj.value = c+1 \n",
    "    dict_obj.add(dict_obj.key, dict_obj.value) \n",
    "    c += 1\n",
    "print(dict_obj) "
   ]
  },
  {
   "cell_type": "code",
   "execution_count": 36,
   "id": "8101be92",
   "metadata": {},
   "outputs": [
    {
     "name": "stdout",
     "output_type": "stream",
     "text": [
      "[{'symbol': '500400.BSE', 'price': '226.3500'}, {'symbol': 'CDSL', 'price': 1111}, {'symbol': 'BPCL', 'price': 2222}]\n"
     ]
    }
   ],
   "source": [
    "stockD = [] \n",
    "stockD.append({'symbol': stock, 'price' : price})\n",
    "stockD.append({'symbol': 'CDSL', 'price' : 1111})\n",
    "stockD.append({'symbol': 'BPCL', 'price' : 2222})\n",
    "print(stockD)"
   ]
  },
  {
   "cell_type": "code",
   "execution_count": null,
   "id": "b872f4ad",
   "metadata": {},
   "outputs": [],
   "source": []
  },
  {
   "cell_type": "code",
   "execution_count": 50,
   "id": "455a0e42",
   "metadata": {},
   "outputs": [],
   "source": [
    "import csv\n",
    "\n",
    "filename = \"C:\\\\temp\\\\stockprice.csv\"\n",
    "fields = ['symbol', 'price']\n",
    "with open(filename, 'w', newline='') as csvfile: \n",
    "    # creating a csv dict writer object \n",
    "    writer = csv.DictWriter(csvfile, fieldnames = fields) \n",
    "        \n",
    "    # writing headers (field names) \n",
    "    writer.writeheader() \n",
    "        \n",
    "    # writing data rows \n",
    "    writer.writerows(stockD) \n",
    "    #for sp in stockD:\n",
    "    #    writer.writerow(sp)\n",
    "    "
   ]
  },
  {
   "cell_type": "code",
   "execution_count": null,
   "id": "c91efd0a",
   "metadata": {},
   "outputs": [],
   "source": []
  },
  {
   "cell_type": "code",
   "execution_count": 53,
   "id": "eea42d6e",
   "metadata": {},
   "outputs": [
    {
     "name": "stdout",
     "output_type": "stream",
     "text": [
      "0 0\n",
      "Alpha Vantage allows only 5 calls a minute. So, wait...\n",
      "1 0\n",
      "2 1\n",
      "3 2\n",
      "4 3\n",
      "5 4\n",
      "Alpha Vantage allows only 5 calls a minute. So, wait...\n",
      "6 0\n",
      "7 1\n",
      "8 2\n",
      "9 3\n",
      "10 4\n",
      "Alpha Vantage allows only 5 calls a minute. So, wait...\n",
      "11 0\n",
      "12 1\n",
      "13 2\n",
      "14 3\n",
      "15 4\n",
      "Alpha Vantage allows only 5 calls a minute. So, wait...\n",
      "16 0\n",
      "17 1\n",
      "18 2\n",
      "19 3\n",
      "20 4\n",
      "Alpha Vantage allows only 5 calls a minute. So, wait...\n",
      "21 0\n",
      "22 1\n",
      "23 2\n",
      "24 3\n"
     ]
    }
   ],
   "source": [
    "count = 0\n",
    "for i in range(25):\n",
    "    print(i, count)\n",
    "    count += 1\n",
    "    if(i % 5 == 0):\n",
    "        print('Alpha Vantage allows only 5 calls a minute. So, wait...')\n",
    "        count = 0"
   ]
  },
  {
   "cell_type": "code",
   "execution_count": null,
   "id": "e2f26b53",
   "metadata": {},
   "outputs": [],
   "source": []
  },
  {
   "cell_type": "code",
   "execution_count": null,
   "id": "f20aa7dc",
   "metadata": {},
   "outputs": [],
   "source": []
  },
  {
   "cell_type": "code",
   "execution_count": null,
   "id": "541d17d4",
   "metadata": {},
   "outputs": [],
   "source": []
  },
  {
   "cell_type": "code",
   "execution_count": null,
   "id": "1f13d94e",
   "metadata": {},
   "outputs": [],
   "source": []
  },
  {
   "cell_type": "code",
   "execution_count": null,
   "id": "73db73ba",
   "metadata": {},
   "outputs": [],
   "source": []
  },
  {
   "cell_type": "code",
   "execution_count": null,
   "id": "3c07c741",
   "metadata": {},
   "outputs": [],
   "source": []
  },
  {
   "cell_type": "code",
   "execution_count": null,
   "id": "3210e93f",
   "metadata": {},
   "outputs": [],
   "source": []
  },
  {
   "cell_type": "code",
   "execution_count": 38,
   "id": "62c6cfad",
   "metadata": {},
   "outputs": [
    {
     "name": "stdout",
     "output_type": "stream",
     "text": [
      "{'symbol': '500400.BSE', 'price': '226.3500'}\n",
      "{'symbol': 'CDSL', 'price': 1111}\n",
      "{'symbol': 'BPCL', 'price': 2222}\n"
     ]
    }
   ],
   "source": [
    "for sp in stockD:\n",
    "    print(sp)"
   ]
  },
  {
   "cell_type": "code",
   "execution_count": 44,
   "id": "d484ca95",
   "metadata": {},
   "outputs": [
    {
     "data": {
      "text/plain": [
       "'BPCL'"
      ]
     },
     "execution_count": 44,
     "metadata": {},
     "output_type": "execute_result"
    }
   ],
   "source": [
    "import requests\n",
    "\n",
    "symbols = [{'symbol': '542752.BSE'},\n",
    "{'symbol': 'AMARAJABAT.BSE'},\n",
    "{'symbol': '533271.BSE'},\n",
    "{'symbol': 'ASIANPAINT.BSE'},\n",
    "{'symbol': '500020.BSE'},\n",
    "{'symbol': 'BPCL.BSE'},\n",
    "{'symbol': '500183.BSE'},\n",
    "{'symbol': '540750.BSE'},\n",
    "{'symbol': 'INFY.BSE'},\n",
    "{'symbol': '541956.BSE'},\n",
    "{'symbol': '542830.BSE'},\n",
    "{'symbol': 'JSWSTEEL.BSE'},\n",
    "{'symbol': '540222.BSE'},\n",
    "{'symbol': 'MHRIL.BSE'},\n",
    "{'symbol': '532539.BSE'},\n",
    "{'symbol': '517334.BSE'},\n",
    "{'symbol': 'NESTLEIND.BSE'},\n",
    "{'symbol': '500331.BSE'},\n",
    "{'symbol': '542652.BSE'},\n",
    "{'symbol': '532670.BSE'},\n",
    "{'symbol': '500408.BSE'},\n",
    "{'symbol': '500400.BSE'},\n",
    "{'symbol': 'TATASTEEL.BSE'},\n",
    "{'symbol': 'TRIDENT.BSE'}\n",
    "]\n",
    "for symbol in symbols:\n",
    "    print(Getting data for: ', symbol['symbol'])\n",
    "    # replace the \"demo\" apikey below with your own key from https://www.alphavantage.co/support/#api-key\n",
    "    url = 'https://www.alphavantage.co/query?function=GLOBAL_QUOTE&symbol=' + symbol['symbol'] + '&apikey=2K30K29WEZ1S23Z'\n",
    "    r = requests.get(url)\n",
    "    data = r.json()"
   ]
  },
  {
   "cell_type": "code",
   "execution_count": null,
   "id": "5b24b2b3",
   "metadata": {},
   "outputs": [],
   "source": []
  },
  {
   "cell_type": "code",
   "execution_count": null,
   "id": "38f17c6e",
   "metadata": {},
   "outputs": [],
   "source": []
  },
  {
   "cell_type": "code",
   "execution_count": 45,
   "id": "641c7c27",
   "metadata": {},
   "outputs": [
    {
     "name": "stdout",
     "output_type": "stream",
     "text": [
      "[{'symbol': '542752.BSE'}, {'symbol': 'AMARAJABAT.BSE'}, {'symbol': '533271.BSE'}, {'symbol': 'ASIANPAINT.BSE'}, {'symbol': '500020.BSE'}, {'symbol': 'BPCL.BSE'}, {'symbol': '500183.BSE'}, {'symbol': '540750.BSE'}, {'symbol': 'INFY.BSE'}, {'symbol': '541956.BSE'}, {'symbol': '542830.BSE'}, {'symbol': 'JSWSTEEL.BSE'}, {'symbol': '540222.BSE'}, {'symbol': 'MHRIL.BSE'}, {'symbol': '532539.BSE'}, {'symbol': '517334.BSE'}, {'symbol': 'NESTLEIND.BSE'}, {'symbol': '500331.BSE'}, {'symbol': '542652.BSE'}, {'symbol': '532670.BSE'}, {'symbol': '500408.BSE'}, {'symbol': '500400.BSE'}, {'symbol': 'TATASTEEL.BSE'}, {'symbol': 'TRIDENT.BSE'}]\n"
     ]
    }
   ],
   "source": [
    "symbols = [{'symbol': '542752.BSE'},\n",
    "{'symbol': 'AMARAJABAT.BSE'},\n",
    "{'symbol': '533271.BSE'},\n",
    "{'symbol': 'ASIANPAINT.BSE'},\n",
    "{'symbol': '500020.BSE'},\n",
    "{'symbol': 'BPCL.BSE'},\n",
    "{'symbol': '500183.BSE'},\n",
    "{'symbol': '540750.BSE'},\n",
    "{'symbol': 'INFY.BSE'},\n",
    "{'symbol': '541956.BSE'},\n",
    "{'symbol': '542830.BSE'},\n",
    "{'symbol': 'JSWSTEEL.BSE'},\n",
    "{'symbol': '540222.BSE'},\n",
    "{'symbol': 'MHRIL.BSE'},\n",
    "{'symbol': '532539.BSE'},\n",
    "{'symbol': '517334.BSE'},\n",
    "{'symbol': 'NESTLEIND.BSE'},\n",
    "{'symbol': '500331.BSE'},\n",
    "{'symbol': '542652.BSE'},\n",
    "{'symbol': '532670.BSE'},\n",
    "{'symbol': '500408.BSE'},\n",
    "{'symbol': '500400.BSE'},\n",
    "{'symbol': 'TATASTEEL.BSE'},\n",
    "{'symbol': 'TRIDENT.BSE'}\n",
    "]\n",
    "print(symbols)"
   ]
  },
  {
   "cell_type": "code",
   "execution_count": 49,
   "id": "9d80ffc4",
   "metadata": {},
   "outputs": [
    {
     "name": "stdout",
     "output_type": "stream",
     "text": [
      "542752.BSE\n",
      "https://www.alphavantage.co/query?function=GLOBAL_QUOTE&symbol=542752.BSE&apikey=2K30K29WEZ1S23Z\n",
      "AMARAJABAT.BSE\n",
      "https://www.alphavantage.co/query?function=GLOBAL_QUOTE&symbol=AMARAJABAT.BSE&apikey=2K30K29WEZ1S23Z\n",
      "533271.BSE\n",
      "https://www.alphavantage.co/query?function=GLOBAL_QUOTE&symbol=533271.BSE&apikey=2K30K29WEZ1S23Z\n",
      "ASIANPAINT.BSE\n",
      "https://www.alphavantage.co/query?function=GLOBAL_QUOTE&symbol=ASIANPAINT.BSE&apikey=2K30K29WEZ1S23Z\n",
      "500020.BSE\n",
      "https://www.alphavantage.co/query?function=GLOBAL_QUOTE&symbol=500020.BSE&apikey=2K30K29WEZ1S23Z\n",
      "BPCL.BSE\n",
      "https://www.alphavantage.co/query?function=GLOBAL_QUOTE&symbol=BPCL.BSE&apikey=2K30K29WEZ1S23Z\n",
      "500183.BSE\n",
      "https://www.alphavantage.co/query?function=GLOBAL_QUOTE&symbol=500183.BSE&apikey=2K30K29WEZ1S23Z\n",
      "540750.BSE\n",
      "https://www.alphavantage.co/query?function=GLOBAL_QUOTE&symbol=540750.BSE&apikey=2K30K29WEZ1S23Z\n",
      "INFY.BSE\n",
      "https://www.alphavantage.co/query?function=GLOBAL_QUOTE&symbol=INFY.BSE&apikey=2K30K29WEZ1S23Z\n",
      "541956.BSE\n",
      "https://www.alphavantage.co/query?function=GLOBAL_QUOTE&symbol=541956.BSE&apikey=2K30K29WEZ1S23Z\n",
      "542830.BSE\n",
      "https://www.alphavantage.co/query?function=GLOBAL_QUOTE&symbol=542830.BSE&apikey=2K30K29WEZ1S23Z\n",
      "JSWSTEEL.BSE\n",
      "https://www.alphavantage.co/query?function=GLOBAL_QUOTE&symbol=JSWSTEEL.BSE&apikey=2K30K29WEZ1S23Z\n",
      "540222.BSE\n",
      "https://www.alphavantage.co/query?function=GLOBAL_QUOTE&symbol=540222.BSE&apikey=2K30K29WEZ1S23Z\n",
      "MHRIL.BSE\n",
      "https://www.alphavantage.co/query?function=GLOBAL_QUOTE&symbol=MHRIL.BSE&apikey=2K30K29WEZ1S23Z\n",
      "532539.BSE\n",
      "https://www.alphavantage.co/query?function=GLOBAL_QUOTE&symbol=532539.BSE&apikey=2K30K29WEZ1S23Z\n",
      "517334.BSE\n",
      "https://www.alphavantage.co/query?function=GLOBAL_QUOTE&symbol=517334.BSE&apikey=2K30K29WEZ1S23Z\n",
      "NESTLEIND.BSE\n",
      "https://www.alphavantage.co/query?function=GLOBAL_QUOTE&symbol=NESTLEIND.BSE&apikey=2K30K29WEZ1S23Z\n",
      "500331.BSE\n",
      "https://www.alphavantage.co/query?function=GLOBAL_QUOTE&symbol=500331.BSE&apikey=2K30K29WEZ1S23Z\n",
      "542652.BSE\n",
      "https://www.alphavantage.co/query?function=GLOBAL_QUOTE&symbol=542652.BSE&apikey=2K30K29WEZ1S23Z\n",
      "532670.BSE\n",
      "https://www.alphavantage.co/query?function=GLOBAL_QUOTE&symbol=532670.BSE&apikey=2K30K29WEZ1S23Z\n",
      "500408.BSE\n",
      "https://www.alphavantage.co/query?function=GLOBAL_QUOTE&symbol=500408.BSE&apikey=2K30K29WEZ1S23Z\n",
      "500400.BSE\n",
      "https://www.alphavantage.co/query?function=GLOBAL_QUOTE&symbol=500400.BSE&apikey=2K30K29WEZ1S23Z\n",
      "TATASTEEL.BSE\n",
      "https://www.alphavantage.co/query?function=GLOBAL_QUOTE&symbol=TATASTEEL.BSE&apikey=2K30K29WEZ1S23Z\n",
      "TRIDENT.BSE\n",
      "https://www.alphavantage.co/query?function=GLOBAL_QUOTE&symbol=TRIDENT.BSE&apikey=2K30K29WEZ1S23Z\n"
     ]
    }
   ],
   "source": [
    "for symbol in symbols:\n",
    "    print(symbol['symbol'])\n",
    "    url = 'https://www.alphavantage.co/query?function=GLOBAL_QUOTE&symbol=' + symbol['symbol'] + '&apikey=2K30K29WEZ1S23Z'\n",
    "    print(url)"
   ]
  },
  {
   "cell_type": "code",
   "execution_count": null,
   "id": "96961a95",
   "metadata": {},
   "outputs": [],
   "source": []
  },
  {
   "cell_type": "code",
   "execution_count": null,
   "id": "13291e0f",
   "metadata": {},
   "outputs": [],
   "source": []
  },
  {
   "cell_type": "code",
   "execution_count": null,
   "id": "4d1f2308",
   "metadata": {},
   "outputs": [],
   "source": []
  },
  {
   "cell_type": "code",
   "execution_count": null,
   "id": "1155afdb",
   "metadata": {},
   "outputs": [],
   "source": []
  }
 ],
 "metadata": {
  "kernelspec": {
   "display_name": "Python 3",
   "language": "python",
   "name": "python3"
  },
  "language_info": {
   "codemirror_mode": {
    "name": "ipython",
    "version": 3
   },
   "file_extension": ".py",
   "mimetype": "text/x-python",
   "name": "python",
   "nbconvert_exporter": "python",
   "pygments_lexer": "ipython3",
   "version": "3.8.8"
  }
 },
 "nbformat": 4,
 "nbformat_minor": 5
}
